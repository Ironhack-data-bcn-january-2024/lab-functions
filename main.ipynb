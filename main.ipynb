{
 "cells": [
  {
   "cell_type": "markdown",
   "metadata": {},
   "source": [
    "# Functions"
   ]
  },
  {
   "cell_type": "markdown",
   "metadata": {},
   "source": [
    "On this lab we will put to practice some of the concepts we have learned on this past few days.\n",
    "\n",
    "`NOTE: On this lab you should try to write all the functions yourself using only the most basic of python syntax and without functions such as len, count, sum, max, min, in, etc. Give it a try. 🧑🏻‍💻👩🏻‍💻`\n",
    "\n",
    "The cell after each exercise contains a few tests to check if your function works as expected."
   ]
  },
  {
   "cell_type": "code",
   "execution_count": 57,
   "metadata": {},
   "outputs": [],
   "source": [
    "from mod.testing import *\n",
    "import unittest"
   ]
  },
  {
   "cell_type": "markdown",
   "metadata": {},
   "source": [
    "## 1. Write a function that returns the greater of two numbers"
   ]
  },
  {
   "cell_type": "code",
   "execution_count": 31,
   "metadata": {},
   "outputs": [],
   "source": [
    "def greater(a,b):\n",
    "    if a > b:\n",
    "        return a\n",
    "    else:\n",
    "        return b"
   ]
  },
  {
   "cell_type": "code",
   "execution_count": 32,
   "metadata": {},
   "outputs": [
    {
     "name": "stderr",
     "output_type": "stream",
     "text": [
      "....................................................................................................\n",
      "----------------------------------------------------------------------\n",
      "Ran 100 tests in 0.403s\n",
      "\n",
      "OK\n"
     ]
    }
   ],
   "source": [
    "# This will test your function \n",
    "test_greater(greater)"
   ]
  },
  {
   "cell_type": "markdown",
   "metadata": {},
   "source": [
    "## 2. Now write a function that returns the largest element on a list"
   ]
  },
  {
   "cell_type": "code",
   "execution_count": 85,
   "metadata": {},
   "outputs": [],
   "source": [
    "def greatest(arr):\n",
    "    largest = 0 \n",
    "    for i in arr:\n",
    "        if i > largest:\n",
    "            largest = i\n",
    "    return largest"
   ]
  },
  {
   "cell_type": "code",
   "execution_count": 86,
   "metadata": {},
   "outputs": [
    {
     "name": "stderr",
     "output_type": "stream",
     "text": [
      "....................................................................................................\n",
      "----------------------------------------------------------------------\n",
      "Ran 100 tests in 0.229s\n",
      "\n",
      "OK\n"
     ]
    }
   ],
   "source": [
    "# This will test your function \n",
    "test_greatest(greatest)"
   ]
  },
  {
   "cell_type": "markdown",
   "metadata": {},
   "source": [
    "## 3. Write a function that sums all the elements on a list"
   ]
  },
  {
   "cell_type": "code",
   "execution_count": 113,
   "metadata": {},
   "outputs": [
    {
     "name": "stdout",
     "output_type": "stream",
     "text": [
      "1\n",
      "2\n",
      "----\n",
      "20\n",
      "40\n",
      "----\n",
      "3\n",
      "6\n",
      "----\n",
      "4\n",
      "8\n",
      "----\n",
      "5\n",
      "10\n",
      "----\n"
     ]
    }
   ],
   "source": [
    "## ERROR \n",
    "##ojo con repetir variables en las iteraciones \n",
    "\n",
    "arr = [1, 20, 3, 4, 5]\n",
    "for i in arr:\n",
    "    print(i)\n",
    "    i += i\n",
    "    print(i)\n",
    "    print(\"----\")\n",
    "#print(i)\n",
    "#ojo con repetir variables en las iteraciones "
   ]
  },
  {
   "cell_type": "code",
   "execution_count": 104,
   "metadata": {},
   "outputs": [],
   "source": [
    "def sum_all(arr):\n",
    "    suma = 0\n",
    "    for i in arr:\n",
    "        suma += i\n",
    "    return suma"
   ]
  },
  {
   "cell_type": "code",
   "execution_count": 105,
   "metadata": {},
   "outputs": [
    {
     "name": "stderr",
     "output_type": "stream",
     "text": [
      "....................................................................................................\n",
      "----------------------------------------------------------------------\n",
      "Ran 100 tests in 0.252s\n",
      "\n",
      "OK\n"
     ]
    }
   ],
   "source": [
    "# This will test your function \n",
    "test_sum(sum_all)"
   ]
  },
  {
   "cell_type": "markdown",
   "metadata": {},
   "source": [
    "## 4. Write another function that multiplies all the elements on a list"
   ]
  },
  {
   "cell_type": "code",
   "execution_count": 106,
   "metadata": {},
   "outputs": [],
   "source": [
    "def mult_all(arr):\n",
    "    mult = 1\n",
    "    for i in arr:\n",
    "        mult *= i\n",
    "    return mult"
   ]
  },
  {
   "cell_type": "code",
   "execution_count": 107,
   "metadata": {},
   "outputs": [
    {
     "name": "stderr",
     "output_type": "stream",
     "text": [
      "....................................................................................................\n",
      "----------------------------------------------------------------------\n",
      "Ran 100 tests in 0.223s\n",
      "\n",
      "OK\n"
     ]
    }
   ],
   "source": [
    "# This will test your function \n",
    "test_mult(mult_all)"
   ]
  },
  {
   "cell_type": "markdown",
   "metadata": {},
   "source": [
    "## 5. Now combine those two ideas and write a function that receives a list and either \"+\" or \"*\" and outputs acordingly"
   ]
  },
  {
   "cell_type": "code",
   "execution_count": 109,
   "metadata": {},
   "outputs": [],
   "source": [
    "def oper_all(arr, oper):\n",
    "    \n",
    "    if oper == \"+\":\n",
    "        suma = 0\n",
    "        for i in arr:\n",
    "            suma += i\n",
    "        return suma\n",
    "\n",
    "    if oper == \"*\":\n",
    "        mult = 1\n",
    "        for i in arr:\n",
    "            mult *= i\n",
    "        return mult"
   ]
  },
  {
   "cell_type": "code",
   "execution_count": 110,
   "metadata": {},
   "outputs": [
    {
     "name": "stderr",
     "output_type": "stream",
     "text": [
      "....................................................................................................\n",
      "----------------------------------------------------------------------\n",
      "Ran 100 tests in 0.202s\n",
      "\n",
      "OK\n"
     ]
    }
   ],
   "source": [
    "# This will test your function \n",
    "test_operations(oper_all)"
   ]
  },
  {
   "cell_type": "markdown",
   "metadata": {},
   "source": [
    "## 6. Write a function that returns the factorial of a number."
   ]
  },
  {
   "cell_type": "code",
   "execution_count": 123,
   "metadata": {},
   "outputs": [],
   "source": [
    "def factorial(n):\n",
    "    fact = 1\n",
    "    for i in range(1,n+1):\n",
    "        fact *= i\n",
    "    return fact"
   ]
  },
  {
   "cell_type": "code",
   "execution_count": 124,
   "metadata": {},
   "outputs": [
    {
     "name": "stderr",
     "output_type": "stream",
     "text": [
      "....................................................................................................\n",
      "----------------------------------------------------------------------\n",
      "Ran 100 tests in 0.206s\n",
      "\n",
      "OK\n"
     ]
    }
   ],
   "source": [
    "# This will test your function \n",
    "test_factorial(factorial)"
   ]
  },
  {
   "cell_type": "markdown",
   "metadata": {},
   "source": [
    "## 7. Write a function that takes a list and returns a list of the unique values.\n",
    "\n",
    "`NOTE: You cannot use set. 🤔`"
   ]
  },
  {
   "cell_type": "code",
   "execution_count": 125,
   "metadata": {},
   "outputs": [],
   "source": [
    "def unique(arr):\n",
    "    new_list = []\n",
    "    for i in arr:\n",
    "        if i in new_list:\n",
    "            continue\n",
    "        else:\n",
    "            new_list.append(i)\n",
    "    return new_list"
   ]
  },
  {
   "cell_type": "code",
   "execution_count": 126,
   "metadata": {},
   "outputs": [
    {
     "name": "stderr",
     "output_type": "stream",
     "text": [
      "....................................................................................................\n",
      "----------------------------------------------------------------------\n",
      "Ran 100 tests in 0.288s\n",
      "\n",
      "OK\n"
     ]
    }
   ],
   "source": [
    "# This will test your function \n",
    "test_unique(unique)"
   ]
  },
  {
   "cell_type": "markdown",
   "metadata": {},
   "source": [
    "## 8. Write a function that calculates the standard deviation of a list.\n",
    "`NOTE: Do not use any libraries or already built functions. 😉`"
   ]
  },
  {
   "cell_type": "code",
   "execution_count": 157,
   "metadata": {},
   "outputs": [
    {
     "name": "stdout",
     "output_type": "stream",
     "text": [
      "3.0\n",
      "3.0\n",
      "------\n",
      "Diferencia :  -2.0\n",
      "Diferencia :  -1.0\n",
      "Diferencia :  0.0\n",
      "Diferencia :  1.0\n",
      "Diferencia :  2.0\n",
      "sumatorio 10.0\n",
      "2.5\n",
      "1.5811388300841898\n",
      "1.5811388300841898\n"
     ]
    }
   ],
   "source": [
    "## desarrollo \n",
    "\n",
    "import numpy as np\n",
    "from statistics import stdev\n",
    "\n",
    "arr = [1,2,3,4,5]\n",
    "\n",
    "suma = 0\n",
    "counter = 0\n",
    "    \n",
    "for i in arr:\n",
    "    suma += i\n",
    "    counter += 1\n",
    "    \n",
    "media = suma / counter\n",
    "\n",
    "print(media)\n",
    "print(sum(arr)/len(arr))\n",
    "print(\"------\")\n",
    "    \n",
    "sumatorio = 0\n",
    "    \n",
    "for i in arr:\n",
    "    dif = i - media\n",
    "    print(f\"Diferencia : \", dif)\n",
    "    sumatorio += dif**2\n",
    "\n",
    "print(\"sumatorio\", sumatorio)\n",
    "total = sumatorio/(counter-1)\n",
    "print(total)\n",
    "desviacion = total**(1/2)\n",
    "    \n",
    "print(desviacion)\n",
    "print(stdev(arr))"
   ]
  },
  {
   "cell_type": "code",
   "execution_count": 160,
   "metadata": {},
   "outputs": [],
   "source": [
    "## Funcion definitiva\n",
    "\n",
    "def st_dev(arr):\n",
    "    \n",
    "    counter = 0    \n",
    "    suma = 0\n",
    "\n",
    "    for i in arr:\n",
    "        suma += i\n",
    "        counter += 1\n",
    "\n",
    "    media = suma / counter\n",
    "\n",
    "    sumatorio = 0\n",
    "\n",
    "    for i in arr:\n",
    "        sumatorio += (i - media)**2\n",
    "\n",
    "    total = sumatorio/(counter-1)\n",
    "    desviacion = total**(1/2\n",
    "    \n",
    "    return desviacion"
   ]
  },
  {
   "cell_type": "code",
   "execution_count": 164,
   "metadata": {},
   "outputs": [
    {
     "name": "stdout",
     "output_type": "stream",
     "text": [
      "39.62532860010963\n",
      "39.62532860010963\n"
     ]
    }
   ],
   "source": [
    "#comprobacion\n",
    "\n",
    "from statistics import stdev\n",
    "\n",
    "new_list = [1,2,100,3,4,5]\n",
    "\n",
    "desviacion = st_dev(new_list)\n",
    "    \n",
    "print(desviacion)\n",
    "print(stdev(new_list)) "
   ]
  },
  {
   "cell_type": "code",
   "execution_count": 167,
   "metadata": {},
   "outputs": [],
   "source": [
    "## Abstraction - crear funciones - luego lo hago \n",
    "\n",
    "def media(numbers):\n",
    "    suma = 0\n",
    "    for i in arr:\n",
    "        suma += i\n",
    "        counter += 1\n",
    "    return suma / counter\n",
    "\n",
    "def st_dev(arr):\n",
    "    \n",
    "    media_nums = media(arr)\n",
    "    counter = 0 \n",
    "    sumatorio = 0\n",
    "\n",
    "    for i in arr:\n",
    "        sumatorio += (i - media_nums)**2\n",
    "        counter += 1\n",
    "\n",
    "    total = sumatorio/(counter-1)\n",
    "    desviacion = total**(1/2)\n",
    "    \n",
    "    return desviacion"
   ]
  },
  {
   "cell_type": "code",
   "execution_count": 158,
   "metadata": {},
   "outputs": [],
   "source": [
    "# This will test your function\n",
    "#test_stdev(st_dev)\n",
    "\n",
    "# Our tests need to be improved, so for this exercise, we care about the code itself. You may check if you get\n",
    "# similar results by checking with:\n",
    "\n",
    "from statistics import stdev"
   ]
  },
  {
   "cell_type": "markdown",
   "metadata": {},
   "source": [
    "## 9. Write a function to check if a string is a pangram, i.e.: if it contains all the letters of the alphabet at least once. Mind that the strings may contain characters that are not letters."
   ]
  },
  {
   "cell_type": "code",
   "execution_count": 186,
   "metadata": {},
   "outputs": [],
   "source": [
    "def pangram(string):\n",
    "    \n",
    "    alphabet = \"abcdefghijklmnopqrstuvwxyz\"\n",
    "    new_list = []\n",
    "    \n",
    "    for i in string:\n",
    "        if i.lower() in alphabet:\n",
    "            if i.lower() in new_list:\n",
    "                pass\n",
    "            else:\n",
    "                new_list.append(i.lower())\n",
    "                \n",
    "    #new_list_2 = sorted(\"\".join(new_list))\n",
    "    #print(new_list_2)\n",
    "    \n",
    "    if len(new_list) == len(alphabet):\n",
    "        return True\n",
    "    else:\n",
    "        return False\n",
    "    "
   ]
  },
  {
   "cell_type": "code",
   "execution_count": 187,
   "metadata": {},
   "outputs": [
    {
     "name": "stderr",
     "output_type": "stream",
     "text": [
      "..............................\n",
      "----------------------------------------------------------------------\n",
      "Ran 30 tests in 0.039s\n",
      "\n",
      "OK\n"
     ]
    }
   ],
   "source": [
    "test_pangram(pangram)"
   ]
  },
  {
   "cell_type": "markdown",
   "metadata": {},
   "source": [
    "## 10. Write a function to check if a given password is strong (at least 8 characters, at least one lower case, at least one upper case, at least one number and at least one special character). It should output True if strong and False if not.\n",
    "`Valid special characters: # @ ! $ % & ( ) ^ * [ ] { }`"
   ]
  },
  {
   "cell_type": "code",
   "execution_count": 241,
   "metadata": {},
   "outputs": [
    {
     "name": "stdout",
     "output_type": "stream",
     "text": [
      "Enter your password:1234hfgyl0L{\n",
      "True\n",
      "True\n",
      "True\n",
      "True\n",
      "True\n"
     ]
    }
   ],
   "source": [
    "#set all flags to False \n",
    "\n",
    "string = input(\"Enter your password:\")\n",
    "\n",
    "fl_length = False\n",
    "fl_lower = False \n",
    "fl_uppper = False \n",
    "fl_number = False\n",
    "fl_character = False\n",
    "\n",
    "lowers = \"abcdefghijklmnopqrstuvwxyz\"\n",
    "uppers = \"ABCDEFGHIJKLMNOPQRSTUVWXYZ\"\n",
    "numbers = \"0123456789\"\n",
    "characters = \"#@!$%&()^*[]{}\"\n",
    "\n",
    "#Evaluates len:\n",
    "\n",
    "if len(string) >= 8:\n",
    "    fl_length = True \n",
    "\n",
    "    \n",
    "#Evaluates lowers:\n",
    "\n",
    "for i in string:\n",
    "    if i in lowers:\n",
    "        fl_lower = True\n",
    "        break\n",
    "\n",
    "#Evaluates uppers:\n",
    "\n",
    "for i in string:\n",
    "    if i in uppers:\n",
    "        fl_uppper = True\n",
    "        break\n",
    "        \n",
    "#Evaluates number:\n",
    "\n",
    "for i in string:\n",
    "    if i in numbers:\n",
    "        fl_number = True\n",
    "        break\n",
    "\n",
    "#Evaluates caracter\n",
    "for i in string:\n",
    "    if i in characters:\n",
    "        fl_character = True\n",
    "        break \n",
    "    \n",
    "print(fl_length)\n",
    "print(fl_lower)\n",
    "print(fl_uppper)\n",
    "print(fl_number)\n",
    "print(fl_character)"
   ]
  },
  {
   "cell_type": "code",
   "execution_count": 237,
   "metadata": {},
   "outputs": [],
   "source": [
    "def check_pass(string):\n",
    "    \n",
    "    #print(string)\n",
    "    \n",
    "    fl_length = False\n",
    "    fl_lower = False \n",
    "    fl_uppper = False \n",
    "    fl_number = False\n",
    "    fl_character = False\n",
    "\n",
    "    lowers = \"abcdefghijklmnopqrstuvwxyz\"\n",
    "    uppers = \"ABCDEFGHIJKLMNOPQRSTUVWXYZ\"\n",
    "    numbers = \"0123456789\"\n",
    "    characters = \"#@!$%&()^*[]{}\"\n",
    "\n",
    "    #Evaluates len:\n",
    "    \n",
    "    if len(string) >= 8:\n",
    "        fl_length = True\n",
    "\n",
    "\n",
    "    #Evaluates lowers:\n",
    "\n",
    "    for i in string:\n",
    "        if i in lowers:\n",
    "            fl_lower = True\n",
    "            break\n",
    "\n",
    "    #Evaluates uppers:\n",
    "\n",
    "    for i in string:\n",
    "        if i in uppers:\n",
    "            fl_uppper = True\n",
    "            break\n",
    "\n",
    "    #Evaluates number:\n",
    "\n",
    "    for i in string:\n",
    "        if i in numbers:\n",
    "            fl_number = True\n",
    "            break\n",
    "\n",
    "    #Evaluates caracter\n",
    "    for i in string:\n",
    "        if i in characters:\n",
    "            fl_character = True\n",
    "            break \n",
    "\n",
    "    if fl_length == True and fl_lower == True and fl_uppper == True and fl_number == True and fl_character == True:\n",
    "        return True\n",
    "    else:\n",
    "        return False"
   ]
  },
  {
   "cell_type": "code",
   "execution_count": 238,
   "metadata": {},
   "outputs": [
    {
     "name": "stderr",
     "output_type": "stream",
     "text": [
      "....................................................................................................\n",
      "----------------------------------------------------------------------\n",
      "Ran 100 tests in 0.190s\n",
      "\n",
      "OK\n"
     ]
    }
   ],
   "source": [
    "# This will test your function \n",
    "test_pass(check_pass)"
   ]
  },
  {
   "cell_type": "markdown",
   "metadata": {},
   "source": [
    "### OPERADORES TERNARIOS - Interesante \n",
    "   \n",
    "   Evaluates len:\n",
    "   Parecido a Comprehension Lists\n",
    "   \n",
    "   `Variabe = confition_if_tue if condition else confition_if_tue`\n",
    "    \n",
    "   `fl_length = \"menor que 8\" if len(string) >= 8 else \"igual o mayor que 8`\n",
    "    \n",
    "   `fl_length = True if len(string) >= 8 else Fals`\n",
    "\n",
    "[link]https://python-intermedio.readthedocs.io/es/latest/ternary_operators.html\n",
    "\n",
    "    "
   ]
  },
  {
   "cell_type": "markdown",
   "metadata": {},
   "source": [
    "## BONUS"
   ]
  },
  {
   "cell_type": "markdown",
   "metadata": {},
   "source": [
    "## 11. Write a function that returns the mode of a list, i.e.: the element that appears the most times.\n",
    "`NOTE: You should not use count... 🧐`"
   ]
  },
  {
   "cell_type": "code",
   "execution_count": 296,
   "metadata": {},
   "outputs": [
    {
     "name": "stdout",
     "output_type": "stream",
     "text": [
      "{1: 1, 2: 4, 3: 3, 4: 1, 5: 1}\n",
      "4\n",
      "2\n"
     ]
    }
   ],
   "source": [
    "arr = [1,2,2,2,2,3,3,3,4,5]\n",
    "\n",
    "for i in arr:\n",
    "    dict_elements[i] = 0\n",
    "\n",
    "for i in arr:\n",
    "    dict_elements[i] += 1\n",
    "\n",
    "print(dict_elements)\n",
    "repeatability = dict_elements.values()\n",
    "maximo = max((sorted(repeatability)))\n",
    "print(maximo)\n",
    "\n",
    "for key, value in dict_elements.items():\n",
    "    if value == maximo:\n",
    "        print(key)\n",
    "\n",
    "#list_repeat = dict_elements.values()\n",
    "#print(list_repeat)\n",
    "#sorted(list_repeat)\n",
    "#print(list_repeat[0])"
   ]
  },
  {
   "cell_type": "code",
   "execution_count": 297,
   "metadata": {},
   "outputs": [],
   "source": [
    "def mode_counter(arr):\n",
    "    \n",
    "    for i in arr:\n",
    "        dict_elements[i] = 0\n",
    "    \n",
    "    for i in arr:\n",
    "        dict_elements[i] += 1 #si no hago lo de arriba no me deja\n",
    "\n",
    "    repeatability = dict_elements.values()\n",
    "    maximo = max((sorted(repeatability)))\n",
    "\n",
    "\n",
    "    for key, value in dict_elements.items():\n",
    "        if value == maximo:\n",
    "            return(key)\n"
   ]
  },
  {
   "cell_type": "code",
   "execution_count": 298,
   "metadata": {},
   "outputs": [
    {
     "name": "stderr",
     "output_type": "stream",
     "text": [
      "....................................................................................................\n",
      "----------------------------------------------------------------------\n",
      "Ran 100 tests in 0.216s\n",
      "\n",
      "OK\n"
     ]
    }
   ],
   "source": [
    "# This will test your function \n",
    "test_mode(mode_counter)"
   ]
  },
  {
   "cell_type": "markdown",
   "metadata": {},
   "source": [
    "## 12. Write a function that receives a string of comma separated words and returns a string of comma separated words sorted alphabetically.\n",
    "\n",
    "`NOTE: You may use sorted but not split and definitely no join! 🤪`"
   ]
  },
  {
   "cell_type": "code",
   "execution_count": 327,
   "metadata": {},
   "outputs": [
    {
     "name": "stdout",
     "output_type": "stream",
     "text": [
      "['tal', 'que', 'marta', 'hola']\n",
      "['hola', 'marta', 'que', 'tal']\n",
      "hola,marta,que,tal\n"
     ]
    }
   ],
   "source": [
    "string = \"tal,que,marta,hola\"\n",
    "words_list = []\n",
    "last_pasted = 0\n",
    "position = 0\n",
    "\n",
    "    \n",
    "for i in string:\n",
    "    if i == \",\":\n",
    "        words_list.append(string[last_pasted:position])\n",
    "        #print(string[last_pasted:position])\n",
    "        #print(string[position])\n",
    "        last_pasted = position + 1\n",
    "    position += 1\n",
    "words_list.append(string[last_pasted:])\n",
    "\n",
    "sorted_word_list = sorted(words_list)\n",
    "\n",
    "print(words_list)\n",
    "print(sorted_word_list)\n",
    "\n",
    "result = str()\n",
    "for i in sorted_word_list:\n",
    "    result += (i + \",\")\n",
    "    \n",
    "result_2 = result[0:len(result)-1]\n",
    "print(result_2)\n"
   ]
  },
  {
   "cell_type": "code",
   "execution_count": 331,
   "metadata": {},
   "outputs": [],
   "source": [
    "def sort_alpha(string):\n",
    "    \n",
    "    words_list = []\n",
    "    last_pasted = 0\n",
    "    position = 0\n",
    "\n",
    "    \n",
    "    for i in string:\n",
    "        if i == \",\":\n",
    "            words_list.append(string[last_pasted:position])\n",
    "            last_pasted = position + 1\n",
    "        position += 1\n",
    "    words_list.append(string[last_pasted:])\n",
    "\n",
    "    sorted_word_list = sorted(words_list)\n",
    "\n",
    "    result = str()\n",
    "    for i in sorted_word_list:\n",
    "        result += (i + \",\")\n",
    "\n",
    "    result_2 = result[0:len(result)-1]\n",
    "    return result_2"
   ]
  },
  {
   "cell_type": "code",
   "execution_count": 332,
   "metadata": {},
   "outputs": [
    {
     "name": "stderr",
     "output_type": "stream",
     "text": [
      "....................................................................................................\n",
      "----------------------------------------------------------------------\n",
      "Ran 100 tests in 0.222s\n",
      "\n",
      "OK\n"
     ]
    }
   ],
   "source": [
    "# This will test your function \n",
    "test_alpha(sort_alpha)"
   ]
  },
  {
   "cell_type": "code",
   "execution_count": null,
   "metadata": {},
   "outputs": [],
   "source": []
  }
 ],
 "metadata": {
  "kernelspec": {
   "display_name": "Python 3 (ipykernel)",
   "language": "python",
   "name": "python3"
  },
  "language_info": {
   "codemirror_mode": {
    "name": "ipython",
    "version": 3
   },
   "file_extension": ".py",
   "mimetype": "text/x-python",
   "name": "python",
   "nbconvert_exporter": "python",
   "pygments_lexer": "ipython3",
   "version": "3.11.5"
  },
  "toc": {
   "base_numbering": 1,
   "nav_menu": {},
   "number_sections": true,
   "sideBar": true,
   "skip_h1_title": false,
   "title_cell": "Table of Contents",
   "title_sidebar": "Contents",
   "toc_cell": false,
   "toc_position": {},
   "toc_section_display": true,
   "toc_window_display": false
  }
 },
 "nbformat": 4,
 "nbformat_minor": 4
}
